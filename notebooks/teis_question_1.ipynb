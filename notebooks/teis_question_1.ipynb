{
 "cells": [
  {
   "cell_type": "code",
   "execution_count": 1,
   "id": "d785e2f3",
   "metadata": {},
   "outputs": [],
   "source": [
    "import numpy as np\n",
    "import pandas as pd\n",
    "import matplotlib.pyplot as plt\n",
    "import seaborn as sns\n",
    "import re\n",
    "from tqdm.notebook import tqdm\n",
    "import pickle \n",
    "\n",
    "%matplotlib inline"
   ]
  },
  {
   "cell_type": "code",
   "execution_count": 2,
   "id": "05d45658",
   "metadata": {},
   "outputs": [],
   "source": [
    "with open('../data/teis_final_data.pickle', 'rb') as file:\n",
    "    final_data = pickle.load(file)"
   ]
  },
  {
   "cell_type": "code",
   "execution_count": 6,
   "id": "38817a55",
   "metadata": {
    "collapsed": true
   },
   "outputs": [
    {
     "data": {
      "text/plain": [
       "child_id                              int64\n",
       "notification_date            datetime64[ns]\n",
       "fiscal_year                          object\n",
       "notification_month                   object\n",
       "tenn_region                          object\n",
       "fiscal_year_1                       float64\n",
       "third_dob                    datetime64[ns]\n",
       "late_referral                       float64\n",
       "qtr                                 float64\n",
       "poe                                  object\n",
       "dob                          datetime64[ns]\n",
       "county_name                          object\n",
       "county_ses                           object\n",
       "child_phase                          object\n",
       "active                               object\n",
       "service_coordinator                  object\n",
       "parent_consent               datetime64[ns]\n",
       "initial_eligibility                  object\n",
       "initial_eligibility_date             object\n",
       "initial_ifsp_date            datetime64[ns]\n",
       "latest_ifsp                  datetime64[ns]\n",
       "exit_reason                          object\n",
       "exit_date                    datetime64[ns]\n",
       "referral_source_type_name            object\n",
       "year                                  int64\n",
       "dtype: object"
      ]
     },
     "execution_count": 6,
     "metadata": {},
     "output_type": "execute_result"
    }
   ],
   "source": [
    "final_data.columns = [\n",
    "    col.strip().lower().replace(' ', '_').replace('.', '_') \n",
    "    for col in \n",
    "    final_data.columns]\n",
    "final_data.dtypes"
   ]
  },
  {
   "cell_type": "code",
   "execution_count": 7,
   "id": "83a241e9",
   "metadata": {
    "collapsed": true
   },
   "outputs": [
    {
     "data": {
      "text/plain": [
       "Index(['child_id', 'notification_date', 'fiscal_year', 'notification_month',\n",
       "       'tenn_region', 'fiscal_year_1', 'third_dob', 'late_referral', 'qtr',\n",
       "       'poe', 'dob', 'county_name', 'county_ses', 'child_phase', 'active',\n",
       "       'service_coordinator', 'parent_consent', 'initial_eligibility',\n",
       "       'initial_eligibility_date', 'initial_ifsp_date', 'latest_ifsp',\n",
       "       'exit_reason', 'exit_date', 'referral_source_type_name', 'year'],\n",
       "      dtype='object')"
      ]
     },
     "execution_count": 7,
     "metadata": {},
     "output_type": "execute_result"
    }
   ],
   "source": [
    "final_data.columns"
   ]
  },
  {
   "cell_type": "markdown",
   "id": "f2dc29b1",
   "metadata": {},
   "source": [
    "### What is the rate of re-referral? "
   ]
  },
  {
   "cell_type": "code",
   "execution_count": 8,
   "id": "4410b6d0",
   "metadata": {},
   "outputs": [],
   "source": [
    "def reref_calc(df, proportion = False, as_percentage = False):\n",
    "    \"\"\"Use value counts over 1 to determine how many or what proportion of children get re-referrals.\"\"\"\n",
    "    if proportion:\n",
    "        calc = (df['child_id'].value_counts() > 1).mean()\n",
    "    else:\n",
    "        calc = (df['child_id'].value_counts() > 1).sum()\n",
    "    \n",
    "    if as_percentage:\n",
    "        return \"{:.2%}\".format(calc)\n",
    "    else:\n",
    "        return calc"
   ]
  },
  {
   "cell_type": "code",
   "execution_count": 9,
   "id": "8b69f49a",
   "metadata": {},
   "outputs": [
    {
     "name": "stdout",
     "output_type": "stream",
     "text": [
      "16.17% of all children get re-referrals\n"
     ]
    }
   ],
   "source": [
    "print(reref_calc(final_data, proportion = True, as_percentage = True), \"of all children get re-referrals\")"
   ]
  },
  {
   "cell_type": "markdown",
   "id": "cfdc694e",
   "metadata": {},
   "source": [
    "### How many children have multiple referrals by year and by POE?"
   ]
  },
  {
   "cell_type": "markdown",
   "id": "fd43375e",
   "metadata": {},
   "source": [
    "by year"
   ]
  },
  {
   "cell_type": "code",
   "execution_count": 10,
   "id": "b44a548a",
   "metadata": {},
   "outputs": [
    {
     "data": {
      "text/plain": [
       "fiscal_year\n",
       "2016-2017    1347\n",
       "2017-2018    1412\n",
       "2018-2019    1398\n",
       "2019-2020    1468\n",
       "2020-2021    1681\n",
       "2021-2022    1474\n",
       "dtype: int64"
      ]
     },
     "execution_count": 10,
     "metadata": {},
     "output_type": "execute_result"
    }
   ],
   "source": [
    "ref_by_year = final_data.groupby('fiscal_year').apply(reref_calc)\n",
    "ref_by_year"
   ]
  },
  {
   "cell_type": "markdown",
   "id": "6a961ffb",
   "metadata": {},
   "source": [
    "by POE & year"
   ]
  },
  {
   "cell_type": "code",
   "execution_count": 11,
   "id": "31de50ac",
   "metadata": {},
   "outputs": [
    {
     "data": {
      "text/plain": [
       "poe  fiscal_year\n",
       "ET   2016-2017      245\n",
       "     2017-2018      252\n",
       "     2018-2019      247\n",
       "     2019-2020      249\n",
       "     2020-2021      281\n",
       "     2021-2022      234\n",
       "FT   2016-2017      133\n",
       "     2017-2018      166\n",
       "     2018-2019      156\n",
       "     2019-2020      121\n",
       "     2020-2021      113\n",
       "     2021-2022      117\n",
       "GN   2016-2017      247\n",
       "     2017-2018      235\n",
       "     2018-2019      194\n",
       "     2019-2020      259\n",
       "     2020-2021      362\n",
       "     2021-2022      306\n",
       "MD   2016-2017      264\n",
       "     2017-2018      265\n",
       "     2018-2019      307\n",
       "     2019-2020      205\n",
       "     2020-2021      238\n",
       "     2021-2022      221\n",
       "NW   2016-2017       65\n",
       "     2017-2018       78\n",
       "     2018-2019       65\n",
       "     2019-2020       86\n",
       "     2020-2021       84\n",
       "     2021-2022       75\n",
       "SC   2016-2017      155\n",
       "     2017-2018      156\n",
       "     2018-2019      136\n",
       "     2019-2020      218\n",
       "     2020-2021      227\n",
       "     2021-2022      186\n",
       "SE   2016-2017       49\n",
       "     2017-2018       60\n",
       "     2018-2019       76\n",
       "     2019-2020      102\n",
       "     2020-2021       89\n",
       "     2021-2022       98\n",
       "SW   2016-2017       63\n",
       "     2017-2018       63\n",
       "     2018-2019       61\n",
       "     2019-2020       74\n",
       "     2020-2021       78\n",
       "     2021-2022       64\n",
       "UC   2016-2017       78\n",
       "     2017-2018       79\n",
       "     2018-2019       89\n",
       "     2019-2020       98\n",
       "     2020-2021      139\n",
       "     2021-2022      129\n",
       "dtype: int64"
      ]
     },
     "execution_count": 11,
     "metadata": {},
     "output_type": "execute_result"
    }
   ],
   "source": [
    "final_data.groupby(['poe','fiscal_year']).apply(reref_calc).sort_index()"
   ]
  },
  {
   "cell_type": "code",
   "execution_count": null,
   "id": "c17d1e99",
   "metadata": {},
   "outputs": [],
   "source": []
  }
 ],
 "metadata": {
  "kernelspec": {
   "display_name": "Python 3 (ipykernel)",
   "language": "python",
   "name": "python3"
  },
  "language_info": {
   "codemirror_mode": {
    "name": "ipython",
    "version": 3
   },
   "file_extension": ".py",
   "mimetype": "text/x-python",
   "name": "python",
   "nbconvert_exporter": "python",
   "pygments_lexer": "ipython3",
   "version": "3.9.7"
  }
 },
 "nbformat": 4,
 "nbformat_minor": 5
}
